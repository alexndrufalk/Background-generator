{
  "nbformat": 4,
  "nbformat_minor": 0,
  "metadata": {
    "colab": {
      "provenance": [],
      "authorship_tag": "ABX9TyOjnH0oGDH+pScITN1Zg4yE",
      "include_colab_link": true
    },
    "kernelspec": {
      "name": "python3",
      "display_name": "Python 3"
    },
    "language_info": {
      "name": "python"
    }
  },
  "cells": [
    {
      "cell_type": "markdown",
      "metadata": {
        "id": "view-in-github",
        "colab_type": "text"
      },
      "source": [
        "<a href=\"https://colab.research.google.com/github/alexandrufalk/Background-generator/blob/Layout-page/CenterNet.ipynb\" target=\"_parent\"><img src=\"https://colab.research.google.com/assets/colab-badge.svg\" alt=\"Open In Colab\"/></a>"
      ]
    },
    {
      "cell_type": "code",
      "source": [
        "import tensorflow as tf\n",
        "from tensorflow.keras.applications import ResNet50\n"
      ],
      "metadata": {
        "id": "GnYPazoswp_i"
      },
      "execution_count": null,
      "outputs": []
    },
    {
      "cell_type": "markdown",
      "source": [
        "#Define the Backbone"
      ],
      "metadata": {
        "id": "_c8LxFk1wpTU"
      }
    },
    {
      "cell_type": "code",
      "execution_count": null,
      "metadata": {
        "id": "gPoZ_t4kwHwb"
      },
      "outputs": [],
      "source": [
        "def create_backbone(input_shape=(512, 512, 3)):\n",
        "    # Use ResNet50 as backbone without top layers, outputting feature maps\n",
        "    backbone = ResNet50(input_shape=input_shape, include_top=False, weights=\"imagenet\")\n",
        "    backbone_output = backbone.get_layer(\"conv4_block6_out\").output  # Choose a layer\n",
        "    model = tf.keras.Model(inputs=backbone.input, outputs=backbone_output)\n",
        "    return model"
      ]
    },
    {
      "cell_type": "markdown",
      "source": [
        "#Detection Head\n",
        "The detection head will predict:\n",
        "\n",
        "-Heatmap: to identify object centers.\n",
        "\n",
        "-Offsets: to adjust for downsampling effects.\n",
        "\n",
        "-Sizes: to predict the width and height of objects.\n"
      ],
      "metadata": {
        "id": "0wZHjLAyxAZk"
      }
    },
    {
      "cell_type": "code",
      "source": [
        "def create_detection_head(backbone_output, num_classes):\n",
        "    # Heatmap head\n",
        "    heatmap = tf.keras.layers.Conv2D(64, kernel_size=3, padding=\"same\", activation=\"relu\")(backbone_output)\n",
        "    heatmap = tf.keras.layers.Conv2D(num_classes, kernel_size=1, padding=\"same\", activation=\"sigmoid\", name=\"heatmap\")(heatmap)\n",
        "\n",
        "    # Offset head\n",
        "    offset = tf.keras.layers.Conv2D(64, kernel_size=3, padding=\"same\", activation=\"relu\")(backbone_output)\n",
        "    offset = tf.keras.layers.Conv2D(2, kernel_size=1, padding=\"same\", name=\"offset\")(offset)  # 2 channels for x and y offsets\n",
        "\n",
        "    # Size head\n",
        "    size = tf.keras.layers.Conv2D(64, kernel_size=3, padding=\"same\", activation=\"relu\")(backbone_output)\n",
        "    size = tf.keras.layers.Conv2D(2, kernel_size=1, padding=\"same\", name=\"size\")(size)  # 2 channels for width and height\n",
        "\n",
        "    return heatmap, offset, size\n"
      ],
      "metadata": {
        "id": "Jww7034LxR9o"
      },
      "execution_count": 1,
      "outputs": []
    },
    {
      "cell_type": "markdown",
      "source": [
        "#Build the Complete CenterNet Model"
      ],
      "metadata": {
        "id": "v5UNB90LA66B"
      }
    },
    {
      "cell_type": "code",
      "source": [
        "def create_centernet(input_shape=(512, 512, 3), num_classes=80):\n",
        "    inputs = tf.keras.Input(shape=input_shape)\n",
        "    backbone_output = create_backbone(input_shape)(inputs)\n",
        "    heatmap, offset, size = create_detection_head(backbone_output, num_classes)\n",
        "    model = tf.keras.Model(inputs=inputs, outputs=[heatmap, offset, size])\n",
        "    return model\n"
      ],
      "metadata": {
        "id": "E-_X853SA7tQ"
      },
      "execution_count": null,
      "outputs": []
    },
    {
      "cell_type": "markdown",
      "source": [
        "#Compile the Model"
      ],
      "metadata": {
        "id": "fre-mqKYBAyW"
      }
    },
    {
      "cell_type": "code",
      "source": [
        "def focal_loss(gamma=2.0, alpha=0.25):\n",
        "    def focal_loss_fixed(y_true, y_pred):\n",
        "        alpha_factor = tf.where(tf.equal(y_true, 1), alpha, 1 - alpha)\n",
        "        focal_weight = tf.where(tf.equal(y_true, 1), 1 - y_pred, y_pred)\n",
        "        focal_weight = alpha_factor * tf.pow(focal_weight, gamma)\n",
        "        bce = tf.keras.losses.binary_crossentropy(y_true, y_pred)\n",
        "        return focal_weight * bce\n",
        "    return focal_loss_fixed\n",
        "\n",
        "def smooth_l1_loss(y_true, y_pred):\n",
        "    return tf.keras.losses.Huber()(y_true, y_pred)\n",
        "\n",
        "centernet = create_centernet()\n",
        "centernet.compile(optimizer='adam',\n",
        "                  loss={'heatmap': focal_loss(),\n",
        "                        'offset': smooth_l1_loss,\n",
        "                        'size': smooth_l1_loss})"
      ],
      "metadata": {
        "id": "epLB0IsdBBre"
      },
      "execution_count": null,
      "outputs": []
    }
  ]
}