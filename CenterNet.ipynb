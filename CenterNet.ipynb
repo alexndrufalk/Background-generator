{
  "nbformat": 4,
  "nbformat_minor": 0,
  "metadata": {
    "colab": {
      "provenance": [],
      "gpuType": "T4",
      "authorship_tag": "ABX9TyNm7AEZexQpPQHbXOuwboam",
      "include_colab_link": true
    },
    "kernelspec": {
      "name": "python3",
      "display_name": "Python 3"
    },
    "language_info": {
      "name": "python"
    },
    "accelerator": "GPU",
    "widgets": {
      "application/vnd.jupyter.widget-state+json": {
        "f87a7fc4d9974a729681b3b56d9c27cc": {
          "model_module": "@jupyter-widgets/controls",
          "model_name": "HBoxModel",
          "model_module_version": "1.5.0",
          "state": {
            "_dom_classes": [],
            "_model_module": "@jupyter-widgets/controls",
            "_model_module_version": "1.5.0",
            "_model_name": "HBoxModel",
            "_view_count": null,
            "_view_module": "@jupyter-widgets/controls",
            "_view_module_version": "1.5.0",
            "_view_name": "HBoxView",
            "box_style": "",
            "children": [
              "IPY_MODEL_5d4540becfcb4bc99c3134e25fedc677",
              "IPY_MODEL_1d7558cf45864887bd4cab6615c3dd1a",
              "IPY_MODEL_4d86a4ce0cd24700840a4b1052269c3c"
            ],
            "layout": "IPY_MODEL_880ef7f80a294aecaa2db705d7d1944b"
          }
        },
        "5d4540becfcb4bc99c3134e25fedc677": {
          "model_module": "@jupyter-widgets/controls",
          "model_name": "HTMLModel",
          "model_module_version": "1.5.0",
          "state": {
            "_dom_classes": [],
            "_model_module": "@jupyter-widgets/controls",
            "_model_module_version": "1.5.0",
            "_model_name": "HTMLModel",
            "_view_count": null,
            "_view_module": "@jupyter-widgets/controls",
            "_view_module_version": "1.5.0",
            "_view_name": "HTMLView",
            "description": "",
            "description_tooltip": null,
            "layout": "IPY_MODEL_220b22da3ea841e792870decd879825e",
            "placeholder": "​",
            "style": "IPY_MODEL_18a37a57d2d2497c8ad5a5862744e279",
            "value": "Dl Completed...: 100%"
          }
        },
        "1d7558cf45864887bd4cab6615c3dd1a": {
          "model_module": "@jupyter-widgets/controls",
          "model_name": "FloatProgressModel",
          "model_module_version": "1.5.0",
          "state": {
            "_dom_classes": [],
            "_model_module": "@jupyter-widgets/controls",
            "_model_module_version": "1.5.0",
            "_model_name": "FloatProgressModel",
            "_view_count": null,
            "_view_module": "@jupyter-widgets/controls",
            "_view_module_version": "1.5.0",
            "_view_name": "ProgressView",
            "bar_style": "success",
            "description": "",
            "description_tooltip": null,
            "layout": "IPY_MODEL_16f23a83c4f9411f855c93fafff36963",
            "max": 1,
            "min": 0,
            "orientation": "horizontal",
            "style": "IPY_MODEL_251b46ff6e2a43aca466d2754cd4110a",
            "value": 1
          }
        },
        "4d86a4ce0cd24700840a4b1052269c3c": {
          "model_module": "@jupyter-widgets/controls",
          "model_name": "HTMLModel",
          "model_module_version": "1.5.0",
          "state": {
            "_dom_classes": [],
            "_model_module": "@jupyter-widgets/controls",
            "_model_module_version": "1.5.0",
            "_model_name": "HTMLModel",
            "_view_count": null,
            "_view_module": "@jupyter-widgets/controls",
            "_view_module_version": "1.5.0",
            "_view_name": "HTMLView",
            "description": "",
            "description_tooltip": null,
            "layout": "IPY_MODEL_46da7f38c3cc403caaf1c1d7d6c47e75",
            "placeholder": "​",
            "style": "IPY_MODEL_d58ec1d47b674b37ad93abd43be58cee",
            "value": " 2/2 [02:38&lt;00:00, 81.52s/ url]"
          }
        },
        "880ef7f80a294aecaa2db705d7d1944b": {
          "model_module": "@jupyter-widgets/base",
          "model_name": "LayoutModel",
          "model_module_version": "1.2.0",
          "state": {
            "_model_module": "@jupyter-widgets/base",
            "_model_module_version": "1.2.0",
            "_model_name": "LayoutModel",
            "_view_count": null,
            "_view_module": "@jupyter-widgets/base",
            "_view_module_version": "1.2.0",
            "_view_name": "LayoutView",
            "align_content": null,
            "align_items": null,
            "align_self": null,
            "border": null,
            "bottom": null,
            "display": null,
            "flex": null,
            "flex_flow": null,
            "grid_area": null,
            "grid_auto_columns": null,
            "grid_auto_flow": null,
            "grid_auto_rows": null,
            "grid_column": null,
            "grid_gap": null,
            "grid_row": null,
            "grid_template_areas": null,
            "grid_template_columns": null,
            "grid_template_rows": null,
            "height": null,
            "justify_content": null,
            "justify_items": null,
            "left": null,
            "margin": null,
            "max_height": null,
            "max_width": null,
            "min_height": null,
            "min_width": null,
            "object_fit": null,
            "object_position": null,
            "order": null,
            "overflow": null,
            "overflow_x": null,
            "overflow_y": null,
            "padding": null,
            "right": null,
            "top": null,
            "visibility": null,
            "width": null
          }
        },
        "220b22da3ea841e792870decd879825e": {
          "model_module": "@jupyter-widgets/base",
          "model_name": "LayoutModel",
          "model_module_version": "1.2.0",
          "state": {
            "_model_module": "@jupyter-widgets/base",
            "_model_module_version": "1.2.0",
            "_model_name": "LayoutModel",
            "_view_count": null,
            "_view_module": "@jupyter-widgets/base",
            "_view_module_version": "1.2.0",
            "_view_name": "LayoutView",
            "align_content": null,
            "align_items": null,
            "align_self": null,
            "border": null,
            "bottom": null,
            "display": null,
            "flex": null,
            "flex_flow": null,
            "grid_area": null,
            "grid_auto_columns": null,
            "grid_auto_flow": null,
            "grid_auto_rows": null,
            "grid_column": null,
            "grid_gap": null,
            "grid_row": null,
            "grid_template_areas": null,
            "grid_template_columns": null,
            "grid_template_rows": null,
            "height": null,
            "justify_content": null,
            "justify_items": null,
            "left": null,
            "margin": null,
            "max_height": null,
            "max_width": null,
            "min_height": null,
            "min_width": null,
            "object_fit": null,
            "object_position": null,
            "order": null,
            "overflow": null,
            "overflow_x": null,
            "overflow_y": null,
            "padding": null,
            "right": null,
            "top": null,
            "visibility": null,
            "width": null
          }
        },
        "18a37a57d2d2497c8ad5a5862744e279": {
          "model_module": "@jupyter-widgets/controls",
          "model_name": "DescriptionStyleModel",
          "model_module_version": "1.5.0",
          "state": {
            "_model_module": "@jupyter-widgets/controls",
            "_model_module_version": "1.5.0",
            "_model_name": "DescriptionStyleModel",
            "_view_count": null,
            "_view_module": "@jupyter-widgets/base",
            "_view_module_version": "1.2.0",
            "_view_name": "StyleView",
            "description_width": ""
          }
        },
        "16f23a83c4f9411f855c93fafff36963": {
          "model_module": "@jupyter-widgets/base",
          "model_name": "LayoutModel",
          "model_module_version": "1.2.0",
          "state": {
            "_model_module": "@jupyter-widgets/base",
            "_model_module_version": "1.2.0",
            "_model_name": "LayoutModel",
            "_view_count": null,
            "_view_module": "@jupyter-widgets/base",
            "_view_module_version": "1.2.0",
            "_view_name": "LayoutView",
            "align_content": null,
            "align_items": null,
            "align_self": null,
            "border": null,
            "bottom": null,
            "display": null,
            "flex": null,
            "flex_flow": null,
            "grid_area": null,
            "grid_auto_columns": null,
            "grid_auto_flow": null,
            "grid_auto_rows": null,
            "grid_column": null,
            "grid_gap": null,
            "grid_row": null,
            "grid_template_areas": null,
            "grid_template_columns": null,
            "grid_template_rows": null,
            "height": null,
            "justify_content": null,
            "justify_items": null,
            "left": null,
            "margin": null,
            "max_height": null,
            "max_width": null,
            "min_height": null,
            "min_width": null,
            "object_fit": null,
            "object_position": null,
            "order": null,
            "overflow": null,
            "overflow_x": null,
            "overflow_y": null,
            "padding": null,
            "right": null,
            "top": null,
            "visibility": null,
            "width": "20px"
          }
        },
        "251b46ff6e2a43aca466d2754cd4110a": {
          "model_module": "@jupyter-widgets/controls",
          "model_name": "ProgressStyleModel",
          "model_module_version": "1.5.0",
          "state": {
            "_model_module": "@jupyter-widgets/controls",
            "_model_module_version": "1.5.0",
            "_model_name": "ProgressStyleModel",
            "_view_count": null,
            "_view_module": "@jupyter-widgets/base",
            "_view_module_version": "1.2.0",
            "_view_name": "StyleView",
            "bar_color": null,
            "description_width": ""
          }
        },
        "46da7f38c3cc403caaf1c1d7d6c47e75": {
          "model_module": "@jupyter-widgets/base",
          "model_name": "LayoutModel",
          "model_module_version": "1.2.0",
          "state": {
            "_model_module": "@jupyter-widgets/base",
            "_model_module_version": "1.2.0",
            "_model_name": "LayoutModel",
            "_view_count": null,
            "_view_module": "@jupyter-widgets/base",
            "_view_module_version": "1.2.0",
            "_view_name": "LayoutView",
            "align_content": null,
            "align_items": null,
            "align_self": null,
            "border": null,
            "bottom": null,
            "display": null,
            "flex": null,
            "flex_flow": null,
            "grid_area": null,
            "grid_auto_columns": null,
            "grid_auto_flow": null,
            "grid_auto_rows": null,
            "grid_column": null,
            "grid_gap": null,
            "grid_row": null,
            "grid_template_areas": null,
            "grid_template_columns": null,
            "grid_template_rows": null,
            "height": null,
            "justify_content": null,
            "justify_items": null,
            "left": null,
            "margin": null,
            "max_height": null,
            "max_width": null,
            "min_height": null,
            "min_width": null,
            "object_fit": null,
            "object_position": null,
            "order": null,
            "overflow": null,
            "overflow_x": null,
            "overflow_y": null,
            "padding": null,
            "right": null,
            "top": null,
            "visibility": null,
            "width": null
          }
        },
        "d58ec1d47b674b37ad93abd43be58cee": {
          "model_module": "@jupyter-widgets/controls",
          "model_name": "DescriptionStyleModel",
          "model_module_version": "1.5.0",
          "state": {
            "_model_module": "@jupyter-widgets/controls",
            "_model_module_version": "1.5.0",
            "_model_name": "DescriptionStyleModel",
            "_view_count": null,
            "_view_module": "@jupyter-widgets/base",
            "_view_module_version": "1.2.0",
            "_view_name": "StyleView",
            "description_width": ""
          }
        },
        "dd76cb18f6d64fd1821e52c0b7b86977": {
          "model_module": "@jupyter-widgets/controls",
          "model_name": "HBoxModel",
          "model_module_version": "1.5.0",
          "state": {
            "_dom_classes": [],
            "_model_module": "@jupyter-widgets/controls",
            "_model_module_version": "1.5.0",
            "_model_name": "HBoxModel",
            "_view_count": null,
            "_view_module": "@jupyter-widgets/controls",
            "_view_module_version": "1.5.0",
            "_view_name": "HBoxView",
            "box_style": "",
            "children": [
              "IPY_MODEL_fa3012f6f0c24684aa840a9b4384f796",
              "IPY_MODEL_22baf2dc611e4354bb457d2518bb8a81",
              "IPY_MODEL_cf213ba2897746ce97b79d1c8965544a"
            ],
            "layout": "IPY_MODEL_a80fa14a3c5e456199871ea628aadf83"
          }
        },
        "fa3012f6f0c24684aa840a9b4384f796": {
          "model_module": "@jupyter-widgets/controls",
          "model_name": "HTMLModel",
          "model_module_version": "1.5.0",
          "state": {
            "_dom_classes": [],
            "_model_module": "@jupyter-widgets/controls",
            "_model_module_version": "1.5.0",
            "_model_name": "HTMLModel",
            "_view_count": null,
            "_view_module": "@jupyter-widgets/controls",
            "_view_module_version": "1.5.0",
            "_view_name": "HTMLView",
            "description": "",
            "description_tooltip": null,
            "layout": "IPY_MODEL_9137b3662f8946e98d1ff5f8643f84bd",
            "placeholder": "​",
            "style": "IPY_MODEL_709c5719f3c6425b906da8e3914e15d9",
            "value": "Dl Size...: 100%"
          }
        },
        "22baf2dc611e4354bb457d2518bb8a81": {
          "model_module": "@jupyter-widgets/controls",
          "model_name": "FloatProgressModel",
          "model_module_version": "1.5.0",
          "state": {
            "_dom_classes": [],
            "_model_module": "@jupyter-widgets/controls",
            "_model_module_version": "1.5.0",
            "_model_name": "FloatProgressModel",
            "_view_count": null,
            "_view_module": "@jupyter-widgets/controls",
            "_view_module_version": "1.5.0",
            "_view_name": "ProgressView",
            "bar_style": "success",
            "description": "",
            "description_tooltip": null,
            "layout": "IPY_MODEL_ab37b90eaea44df6814d863c58424034",
            "max": 1,
            "min": 0,
            "orientation": "horizontal",
            "style": "IPY_MODEL_19d5e5c8c633433cbd5953d636fbc902",
            "value": 1
          }
        },
        "cf213ba2897746ce97b79d1c8965544a": {
          "model_module": "@jupyter-widgets/controls",
          "model_name": "HTMLModel",
          "model_module_version": "1.5.0",
          "state": {
            "_dom_classes": [],
            "_model_module": "@jupyter-widgets/controls",
            "_model_module_version": "1.5.0",
            "_model_name": "HTMLModel",
            "_view_count": null,
            "_view_module": "@jupyter-widgets/controls",
            "_view_module_version": "1.5.0",
            "_view_name": "HTMLView",
            "description": "",
            "description_tooltip": null,
            "layout": "IPY_MODEL_0e6ca7f87f534173804f23d676df7f33",
            "placeholder": "​",
            "style": "IPY_MODEL_008f6ca1223e4407a000e5ab2dc11dd8",
            "value": " 868/868 [02:38&lt;00:00, 26.68 MiB/s]"
          }
        },
        "a80fa14a3c5e456199871ea628aadf83": {
          "model_module": "@jupyter-widgets/base",
          "model_name": "LayoutModel",
          "model_module_version": "1.2.0",
          "state": {
            "_model_module": "@jupyter-widgets/base",
            "_model_module_version": "1.2.0",
            "_model_name": "LayoutModel",
            "_view_count": null,
            "_view_module": "@jupyter-widgets/base",
            "_view_module_version": "1.2.0",
            "_view_name": "LayoutView",
            "align_content": null,
            "align_items": null,
            "align_self": null,
            "border": null,
            "bottom": null,
            "display": null,
            "flex": null,
            "flex_flow": null,
            "grid_area": null,
            "grid_auto_columns": null,
            "grid_auto_flow": null,
            "grid_auto_rows": null,
            "grid_column": null,
            "grid_gap": null,
            "grid_row": null,
            "grid_template_areas": null,
            "grid_template_columns": null,
            "grid_template_rows": null,
            "height": null,
            "justify_content": null,
            "justify_items": null,
            "left": null,
            "margin": null,
            "max_height": null,
            "max_width": null,
            "min_height": null,
            "min_width": null,
            "object_fit": null,
            "object_position": null,
            "order": null,
            "overflow": null,
            "overflow_x": null,
            "overflow_y": null,
            "padding": null,
            "right": null,
            "top": null,
            "visibility": null,
            "width": null
          }
        },
        "9137b3662f8946e98d1ff5f8643f84bd": {
          "model_module": "@jupyter-widgets/base",
          "model_name": "LayoutModel",
          "model_module_version": "1.2.0",
          "state": {
            "_model_module": "@jupyter-widgets/base",
            "_model_module_version": "1.2.0",
            "_model_name": "LayoutModel",
            "_view_count": null,
            "_view_module": "@jupyter-widgets/base",
            "_view_module_version": "1.2.0",
            "_view_name": "LayoutView",
            "align_content": null,
            "align_items": null,
            "align_self": null,
            "border": null,
            "bottom": null,
            "display": null,
            "flex": null,
            "flex_flow": null,
            "grid_area": null,
            "grid_auto_columns": null,
            "grid_auto_flow": null,
            "grid_auto_rows": null,
            "grid_column": null,
            "grid_gap": null,
            "grid_row": null,
            "grid_template_areas": null,
            "grid_template_columns": null,
            "grid_template_rows": null,
            "height": null,
            "justify_content": null,
            "justify_items": null,
            "left": null,
            "margin": null,
            "max_height": null,
            "max_width": null,
            "min_height": null,
            "min_width": null,
            "object_fit": null,
            "object_position": null,
            "order": null,
            "overflow": null,
            "overflow_x": null,
            "overflow_y": null,
            "padding": null,
            "right": null,
            "top": null,
            "visibility": null,
            "width": null
          }
        },
        "709c5719f3c6425b906da8e3914e15d9": {
          "model_module": "@jupyter-widgets/controls",
          "model_name": "DescriptionStyleModel",
          "model_module_version": "1.5.0",
          "state": {
            "_model_module": "@jupyter-widgets/controls",
            "_model_module_version": "1.5.0",
            "_model_name": "DescriptionStyleModel",
            "_view_count": null,
            "_view_module": "@jupyter-widgets/base",
            "_view_module_version": "1.2.0",
            "_view_name": "StyleView",
            "description_width": ""
          }
        },
        "ab37b90eaea44df6814d863c58424034": {
          "model_module": "@jupyter-widgets/base",
          "model_name": "LayoutModel",
          "model_module_version": "1.2.0",
          "state": {
            "_model_module": "@jupyter-widgets/base",
            "_model_module_version": "1.2.0",
            "_model_name": "LayoutModel",
            "_view_count": null,
            "_view_module": "@jupyter-widgets/base",
            "_view_module_version": "1.2.0",
            "_view_name": "LayoutView",
            "align_content": null,
            "align_items": null,
            "align_self": null,
            "border": null,
            "bottom": null,
            "display": null,
            "flex": null,
            "flex_flow": null,
            "grid_area": null,
            "grid_auto_columns": null,
            "grid_auto_flow": null,
            "grid_auto_rows": null,
            "grid_column": null,
            "grid_gap": null,
            "grid_row": null,
            "grid_template_areas": null,
            "grid_template_columns": null,
            "grid_template_rows": null,
            "height": null,
            "justify_content": null,
            "justify_items": null,
            "left": null,
            "margin": null,
            "max_height": null,
            "max_width": null,
            "min_height": null,
            "min_width": null,
            "object_fit": null,
            "object_position": null,
            "order": null,
            "overflow": null,
            "overflow_x": null,
            "overflow_y": null,
            "padding": null,
            "right": null,
            "top": null,
            "visibility": null,
            "width": "20px"
          }
        },
        "19d5e5c8c633433cbd5953d636fbc902": {
          "model_module": "@jupyter-widgets/controls",
          "model_name": "ProgressStyleModel",
          "model_module_version": "1.5.0",
          "state": {
            "_model_module": "@jupyter-widgets/controls",
            "_model_module_version": "1.5.0",
            "_model_name": "ProgressStyleModel",
            "_view_count": null,
            "_view_module": "@jupyter-widgets/base",
            "_view_module_version": "1.2.0",
            "_view_name": "StyleView",
            "bar_color": null,
            "description_width": ""
          }
        },
        "0e6ca7f87f534173804f23d676df7f33": {
          "model_module": "@jupyter-widgets/base",
          "model_name": "LayoutModel",
          "model_module_version": "1.2.0",
          "state": {
            "_model_module": "@jupyter-widgets/base",
            "_model_module_version": "1.2.0",
            "_model_name": "LayoutModel",
            "_view_count": null,
            "_view_module": "@jupyter-widgets/base",
            "_view_module_version": "1.2.0",
            "_view_name": "LayoutView",
            "align_content": null,
            "align_items": null,
            "align_self": null,
            "border": null,
            "bottom": null,
            "display": null,
            "flex": null,
            "flex_flow": null,
            "grid_area": null,
            "grid_auto_columns": null,
            "grid_auto_flow": null,
            "grid_auto_rows": null,
            "grid_column": null,
            "grid_gap": null,
            "grid_row": null,
            "grid_template_areas": null,
            "grid_template_columns": null,
            "grid_template_rows": null,
            "height": null,
            "justify_content": null,
            "justify_items": null,
            "left": null,
            "margin": null,
            "max_height": null,
            "max_width": null,
            "min_height": null,
            "min_width": null,
            "object_fit": null,
            "object_position": null,
            "order": null,
            "overflow": null,
            "overflow_x": null,
            "overflow_y": null,
            "padding": null,
            "right": null,
            "top": null,
            "visibility": null,
            "width": null
          }
        },
        "008f6ca1223e4407a000e5ab2dc11dd8": {
          "model_module": "@jupyter-widgets/controls",
          "model_name": "DescriptionStyleModel",
          "model_module_version": "1.5.0",
          "state": {
            "_model_module": "@jupyter-widgets/controls",
            "_model_module_version": "1.5.0",
            "_model_name": "DescriptionStyleModel",
            "_view_count": null,
            "_view_module": "@jupyter-widgets/base",
            "_view_module_version": "1.2.0",
            "_view_name": "StyleView",
            "description_width": ""
          }
        },
        "a70695f1c65142a293c22853eab799da": {
          "model_module": "@jupyter-widgets/controls",
          "model_name": "HBoxModel",
          "model_module_version": "1.5.0",
          "state": {
            "_dom_classes": [],
            "_model_module": "@jupyter-widgets/controls",
            "_model_module_version": "1.5.0",
            "_model_name": "HBoxModel",
            "_view_count": null,
            "_view_module": "@jupyter-widgets/controls",
            "_view_module_version": "1.5.0",
            "_view_name": "HBoxView",
            "box_style": "",
            "children": [
              "IPY_MODEL_e4241a450aee4d188f291ef233de0b04",
              "IPY_MODEL_6e3e5d3e4b714322b5c36ce5e19a405d",
              "IPY_MODEL_7cb9f4c36c944c38b042661dcbdf7d79"
            ],
            "layout": "IPY_MODEL_b7ac9d05692a4827b13834073475f343"
          }
        },
        "e4241a450aee4d188f291ef233de0b04": {
          "model_module": "@jupyter-widgets/controls",
          "model_name": "HTMLModel",
          "model_module_version": "1.5.0",
          "state": {
            "_dom_classes": [],
            "_model_module": "@jupyter-widgets/controls",
            "_model_module_version": "1.5.0",
            "_model_name": "HTMLModel",
            "_view_count": null,
            "_view_module": "@jupyter-widgets/controls",
            "_view_module_version": "1.5.0",
            "_view_name": "HTMLView",
            "description": "",
            "description_tooltip": null,
            "layout": "IPY_MODEL_b58c463a02d942299557cf2bd86a2b7a",
            "placeholder": "​",
            "style": "IPY_MODEL_3bec6baf416447cc8da0b240cc7738b1",
            "value": "Extraction completed...: 100%"
          }
        },
        "6e3e5d3e4b714322b5c36ce5e19a405d": {
          "model_module": "@jupyter-widgets/controls",
          "model_name": "FloatProgressModel",
          "model_module_version": "1.5.0",
          "state": {
            "_dom_classes": [],
            "_model_module": "@jupyter-widgets/controls",
            "_model_module_version": "1.5.0",
            "_model_name": "FloatProgressModel",
            "_view_count": null,
            "_view_module": "@jupyter-widgets/controls",
            "_view_module_version": "1.5.0",
            "_view_name": "ProgressView",
            "bar_style": "success",
            "description": "",
            "description_tooltip": null,
            "layout": "IPY_MODEL_e77f166324d746f890a9f6d20bea4748",
            "max": 1,
            "min": 0,
            "orientation": "horizontal",
            "style": "IPY_MODEL_1bf8b1f35e8644bda2bb753e5b1eacbb",
            "value": 1
          }
        },
        "7cb9f4c36c944c38b042661dcbdf7d79": {
          "model_module": "@jupyter-widgets/controls",
          "model_name": "HTMLModel",
          "model_module_version": "1.5.0",
          "state": {
            "_dom_classes": [],
            "_model_module": "@jupyter-widgets/controls",
            "_model_module_version": "1.5.0",
            "_model_name": "HTMLModel",
            "_view_count": null,
            "_view_module": "@jupyter-widgets/controls",
            "_view_module_version": "1.5.0",
            "_view_name": "HTMLView",
            "description": "",
            "description_tooltip": null,
            "layout": "IPY_MODEL_58d7103c863047dc8c0f1a63b118345d",
            "placeholder": "​",
            "style": "IPY_MODEL_abf611b9241a433a98893de92167ff13",
            "value": " 21282/21282 [02:38&lt;00:00, 767.33 file/s]"
          }
        },
        "b7ac9d05692a4827b13834073475f343": {
          "model_module": "@jupyter-widgets/base",
          "model_name": "LayoutModel",
          "model_module_version": "1.2.0",
          "state": {
            "_model_module": "@jupyter-widgets/base",
            "_model_module_version": "1.2.0",
            "_model_name": "LayoutModel",
            "_view_count": null,
            "_view_module": "@jupyter-widgets/base",
            "_view_module_version": "1.2.0",
            "_view_name": "LayoutView",
            "align_content": null,
            "align_items": null,
            "align_self": null,
            "border": null,
            "bottom": null,
            "display": null,
            "flex": null,
            "flex_flow": null,
            "grid_area": null,
            "grid_auto_columns": null,
            "grid_auto_flow": null,
            "grid_auto_rows": null,
            "grid_column": null,
            "grid_gap": null,
            "grid_row": null,
            "grid_template_areas": null,
            "grid_template_columns": null,
            "grid_template_rows": null,
            "height": null,
            "justify_content": null,
            "justify_items": null,
            "left": null,
            "margin": null,
            "max_height": null,
            "max_width": null,
            "min_height": null,
            "min_width": null,
            "object_fit": null,
            "object_position": null,
            "order": null,
            "overflow": null,
            "overflow_x": null,
            "overflow_y": null,
            "padding": null,
            "right": null,
            "top": null,
            "visibility": null,
            "width": null
          }
        },
        "b58c463a02d942299557cf2bd86a2b7a": {
          "model_module": "@jupyter-widgets/base",
          "model_name": "LayoutModel",
          "model_module_version": "1.2.0",
          "state": {
            "_model_module": "@jupyter-widgets/base",
            "_model_module_version": "1.2.0",
            "_model_name": "LayoutModel",
            "_view_count": null,
            "_view_module": "@jupyter-widgets/base",
            "_view_module_version": "1.2.0",
            "_view_name": "LayoutView",
            "align_content": null,
            "align_items": null,
            "align_self": null,
            "border": null,
            "bottom": null,
            "display": null,
            "flex": null,
            "flex_flow": null,
            "grid_area": null,
            "grid_auto_columns": null,
            "grid_auto_flow": null,
            "grid_auto_rows": null,
            "grid_column": null,
            "grid_gap": null,
            "grid_row": null,
            "grid_template_areas": null,
            "grid_template_columns": null,
            "grid_template_rows": null,
            "height": null,
            "justify_content": null,
            "justify_items": null,
            "left": null,
            "margin": null,
            "max_height": null,
            "max_width": null,
            "min_height": null,
            "min_width": null,
            "object_fit": null,
            "object_position": null,
            "order": null,
            "overflow": null,
            "overflow_x": null,
            "overflow_y": null,
            "padding": null,
            "right": null,
            "top": null,
            "visibility": null,
            "width": null
          }
        },
        "3bec6baf416447cc8da0b240cc7738b1": {
          "model_module": "@jupyter-widgets/controls",
          "model_name": "DescriptionStyleModel",
          "model_module_version": "1.5.0",
          "state": {
            "_model_module": "@jupyter-widgets/controls",
            "_model_module_version": "1.5.0",
            "_model_name": "DescriptionStyleModel",
            "_view_count": null,
            "_view_module": "@jupyter-widgets/base",
            "_view_module_version": "1.2.0",
            "_view_name": "StyleView",
            "description_width": ""
          }
        },
        "e77f166324d746f890a9f6d20bea4748": {
          "model_module": "@jupyter-widgets/base",
          "model_name": "LayoutModel",
          "model_module_version": "1.2.0",
          "state": {
            "_model_module": "@jupyter-widgets/base",
            "_model_module_version": "1.2.0",
            "_model_name": "LayoutModel",
            "_view_count": null,
            "_view_module": "@jupyter-widgets/base",
            "_view_module_version": "1.2.0",
            "_view_name": "LayoutView",
            "align_content": null,
            "align_items": null,
            "align_self": null,
            "border": null,
            "bottom": null,
            "display": null,
            "flex": null,
            "flex_flow": null,
            "grid_area": null,
            "grid_auto_columns": null,
            "grid_auto_flow": null,
            "grid_auto_rows": null,
            "grid_column": null,
            "grid_gap": null,
            "grid_row": null,
            "grid_template_areas": null,
            "grid_template_columns": null,
            "grid_template_rows": null,
            "height": null,
            "justify_content": null,
            "justify_items": null,
            "left": null,
            "margin": null,
            "max_height": null,
            "max_width": null,
            "min_height": null,
            "min_width": null,
            "object_fit": null,
            "object_position": null,
            "order": null,
            "overflow": null,
            "overflow_x": null,
            "overflow_y": null,
            "padding": null,
            "right": null,
            "top": null,
            "visibility": null,
            "width": "20px"
          }
        },
        "1bf8b1f35e8644bda2bb753e5b1eacbb": {
          "model_module": "@jupyter-widgets/controls",
          "model_name": "ProgressStyleModel",
          "model_module_version": "1.5.0",
          "state": {
            "_model_module": "@jupyter-widgets/controls",
            "_model_module_version": "1.5.0",
            "_model_name": "ProgressStyleModel",
            "_view_count": null,
            "_view_module": "@jupyter-widgets/base",
            "_view_module_version": "1.2.0",
            "_view_name": "StyleView",
            "bar_color": null,
            "description_width": ""
          }
        },
        "58d7103c863047dc8c0f1a63b118345d": {
          "model_module": "@jupyter-widgets/base",
          "model_name": "LayoutModel",
          "model_module_version": "1.2.0",
          "state": {
            "_model_module": "@jupyter-widgets/base",
            "_model_module_version": "1.2.0",
            "_model_name": "LayoutModel",
            "_view_count": null,
            "_view_module": "@jupyter-widgets/base",
            "_view_module_version": "1.2.0",
            "_view_name": "LayoutView",
            "align_content": null,
            "align_items": null,
            "align_self": null,
            "border": null,
            "bottom": null,
            "display": null,
            "flex": null,
            "flex_flow": null,
            "grid_area": null,
            "grid_auto_columns": null,
            "grid_auto_flow": null,
            "grid_auto_rows": null,
            "grid_column": null,
            "grid_gap": null,
            "grid_row": null,
            "grid_template_areas": null,
            "grid_template_columns": null,
            "grid_template_rows": null,
            "height": null,
            "justify_content": null,
            "justify_items": null,
            "left": null,
            "margin": null,
            "max_height": null,
            "max_width": null,
            "min_height": null,
            "min_width": null,
            "object_fit": null,
            "object_position": null,
            "order": null,
            "overflow": null,
            "overflow_x": null,
            "overflow_y": null,
            "padding": null,
            "right": null,
            "top": null,
            "visibility": null,
            "width": null
          }
        },
        "abf611b9241a433a98893de92167ff13": {
          "model_module": "@jupyter-widgets/controls",
          "model_name": "DescriptionStyleModel",
          "model_module_version": "1.5.0",
          "state": {
            "_model_module": "@jupyter-widgets/controls",
            "_model_module_version": "1.5.0",
            "_model_name": "DescriptionStyleModel",
            "_view_count": null,
            "_view_module": "@jupyter-widgets/base",
            "_view_module_version": "1.2.0",
            "_view_name": "StyleView",
            "description_width": ""
          }
        }
      }
    }
  },
  "cells": [
    {
      "cell_type": "markdown",
      "metadata": {
        "id": "view-in-github",
        "colab_type": "text"
      },
      "source": [
        "<a href=\"https://colab.research.google.com/github/alexandrufalk/Background-generator/blob/Layout-page/CenterNet.ipynb\" target=\"_parent\"><img src=\"https://colab.research.google.com/assets/colab-badge.svg\" alt=\"Open In Colab\"/></a>"
      ]
    },
    {
      "cell_type": "code",
      "source": [
        "import tensorflow as tf\n",
        "from tensorflow.keras.applications import ResNet50\n",
        "import tensorflow_datasets as tfds\n"
      ],
      "metadata": {
        "id": "GnYPazoswp_i"
      },
      "execution_count": 1,
      "outputs": []
    },
    {
      "cell_type": "markdown",
      "source": [
        "#Download Pascal VOC Dataset"
      ],
      "metadata": {
        "id": "Kj0nN5tTcwX3"
      }
    },
    {
      "cell_type": "code",
      "source": [
        "# Load Pascal VOC 2007 dataset with bounding boxes\n",
        "dataset, info = tfds.load(\"voc/2007\", split=\"train+validation\", with_info=True)"
      ],
      "metadata": {
        "id": "FHCbdFa7cz1I",
        "colab": {
          "base_uri": "https://localhost:8080/",
          "height": 150,
          "referenced_widgets": [
            "f87a7fc4d9974a729681b3b56d9c27cc",
            "5d4540becfcb4bc99c3134e25fedc677",
            "1d7558cf45864887bd4cab6615c3dd1a",
            "4d86a4ce0cd24700840a4b1052269c3c",
            "880ef7f80a294aecaa2db705d7d1944b",
            "220b22da3ea841e792870decd879825e",
            "18a37a57d2d2497c8ad5a5862744e279",
            "16f23a83c4f9411f855c93fafff36963",
            "251b46ff6e2a43aca466d2754cd4110a",
            "46da7f38c3cc403caaf1c1d7d6c47e75",
            "d58ec1d47b674b37ad93abd43be58cee",
            "dd76cb18f6d64fd1821e52c0b7b86977",
            "fa3012f6f0c24684aa840a9b4384f796",
            "22baf2dc611e4354bb457d2518bb8a81",
            "cf213ba2897746ce97b79d1c8965544a",
            "a80fa14a3c5e456199871ea628aadf83",
            "9137b3662f8946e98d1ff5f8643f84bd",
            "709c5719f3c6425b906da8e3914e15d9",
            "ab37b90eaea44df6814d863c58424034",
            "19d5e5c8c633433cbd5953d636fbc902",
            "0e6ca7f87f534173804f23d676df7f33",
            "008f6ca1223e4407a000e5ab2dc11dd8",
            "a70695f1c65142a293c22853eab799da",
            "e4241a450aee4d188f291ef233de0b04",
            "6e3e5d3e4b714322b5c36ce5e19a405d",
            "7cb9f4c36c944c38b042661dcbdf7d79",
            "b7ac9d05692a4827b13834073475f343",
            "b58c463a02d942299557cf2bd86a2b7a",
            "3bec6baf416447cc8da0b240cc7738b1",
            "e77f166324d746f890a9f6d20bea4748",
            "1bf8b1f35e8644bda2bb753e5b1eacbb",
            "58d7103c863047dc8c0f1a63b118345d",
            "abf611b9241a433a98893de92167ff13"
          ]
        },
        "outputId": "34941970-74cb-43c7-91ec-91c342b6ef10"
      },
      "execution_count": null,
      "outputs": [
        {
          "output_type": "stream",
          "name": "stdout",
          "text": [
            "Downloading and preparing dataset 868.85 MiB (download: 868.85 MiB, generated: Unknown size, total: 868.85 MiB) to /root/tensorflow_datasets/voc/2007/4.0.0...\n"
          ]
        },
        {
          "output_type": "display_data",
          "data": {
            "text/plain": [
              "Dl Completed...: 0 url [00:00, ? url/s]"
            ],
            "application/vnd.jupyter.widget-view+json": {
              "version_major": 2,
              "version_minor": 0,
              "model_id": "f87a7fc4d9974a729681b3b56d9c27cc"
            }
          },
          "metadata": {}
        },
        {
          "output_type": "display_data",
          "data": {
            "text/plain": [
              "Dl Size...: 0 MiB [00:00, ? MiB/s]"
            ],
            "application/vnd.jupyter.widget-view+json": {
              "version_major": 2,
              "version_minor": 0,
              "model_id": "dd76cb18f6d64fd1821e52c0b7b86977"
            }
          },
          "metadata": {}
        },
        {
          "output_type": "display_data",
          "data": {
            "text/plain": [
              "Extraction completed...: 0 file [00:00, ? file/s]"
            ],
            "application/vnd.jupyter.widget-view+json": {
              "version_major": 2,
              "version_minor": 0,
              "model_id": "a70695f1c65142a293c22853eab799da"
            }
          },
          "metadata": {}
        }
      ]
    },
    {
      "cell_type": "markdown",
      "source": [
        "#Explore the Dataset"
      ],
      "metadata": {
        "id": "j2JA7Vk5dDTI"
      }
    },
    {
      "cell_type": "code",
      "source": [
        "# Check dataset info\n",
        "print(info)\n",
        "\n",
        "# Example: Iterate through the dataset\n",
        "for sample in dataset.take(1):\n",
        "    image = sample[\"image\"]\n",
        "    bbox = sample[\"objects\"][\"bbox\"]\n",
        "    label = sample[\"objects\"][\"label\"]\n",
        "    print(f\"Image shape: {image.shape}\")\n",
        "    print(f\"Bounding Boxes: {bbox}\")\n",
        "    print(f\"Labels: {label}\")"
      ],
      "metadata": {
        "colab": {
          "base_uri": "https://localhost:8080/"
        },
        "collapsed": true,
        "id": "DQeUS2jZdEmC",
        "outputId": "451a8fd1-4c6f-4513-c3bf-9de6224ce0bb"
      },
      "execution_count": 3,
      "outputs": [
        {
          "output_type": "stream",
          "name": "stdout",
          "text": [
            "tfds.core.DatasetInfo(\n",
            "    name='voc',\n",
            "    full_name='voc/2007/4.0.0',\n",
            "    description=\"\"\"\n",
            "    This dataset contains the data from the PASCAL Visual Object Classes Challenge,\n",
            "    corresponding to the Classification and Detection competitions.\n",
            "    \n",
            "    In the Classification competition, the goal is to predict the set of labels\n",
            "    contained in the image, while in the Detection competition the goal is to\n",
            "    predict the bounding box and label of each individual object.\n",
            "    WARNING: As per the official dataset, the test set of VOC2012 does not contain\n",
            "    annotations.\n",
            "    \"\"\",\n",
            "    config_description=\"\"\"\n",
            "    This dataset contains the data from the PASCAL Visual Object Classes Challenge\n",
            "    2007, a.k.a. VOC2007.\n",
            "    \n",
            "    A total of 9963 images are included in this dataset, where each image\n",
            "    contains a set of objects, out of 20 different classes, making a total of\n",
            "    24640 annotated objects.\n",
            "    \n",
            "    \"\"\",\n",
            "    homepage='http://host.robots.ox.ac.uk/pascal/VOC/voc2007/',\n",
            "    data_dir=PosixGPath('/tmp/tmphgeq_oe3tfds'),\n",
            "    file_format=tfrecord,\n",
            "    download_size=868.85 MiB,\n",
            "    dataset_size=837.73 MiB,\n",
            "    features=FeaturesDict({\n",
            "        'image': Image(shape=(None, None, 3), dtype=uint8),\n",
            "        'image/filename': Text(shape=(), dtype=string),\n",
            "        'labels': Sequence(ClassLabel(shape=(), dtype=int64, num_classes=20)),\n",
            "        'labels_no_difficult': Sequence(ClassLabel(shape=(), dtype=int64, num_classes=20)),\n",
            "        'objects': Sequence({\n",
            "            'bbox': BBoxFeature(shape=(4,), dtype=float32),\n",
            "            'is_difficult': bool,\n",
            "            'is_truncated': bool,\n",
            "            'label': ClassLabel(shape=(), dtype=int64, num_classes=20),\n",
            "            'pose': ClassLabel(shape=(), dtype=int64, num_classes=5),\n",
            "        }),\n",
            "    }),\n",
            "    supervised_keys=None,\n",
            "    disable_shuffling=False,\n",
            "    splits={\n",
            "        'test': <SplitInfo num_examples=4952, num_shards=4>,\n",
            "        'train': <SplitInfo num_examples=2501, num_shards=2>,\n",
            "        'validation': <SplitInfo num_examples=2510, num_shards=2>,\n",
            "    },\n",
            "    citation=\"\"\"@misc{pascal-voc-2007,\n",
            "    \tauthor = \"Everingham, M. and Van~Gool, L. and Williams, C. K. I. and Winn, J. and Zisserman, A.\",\n",
            "    \ttitle = \"The {PASCAL} {V}isual {O}bject {C}lasses {C}hallenge 2007 {(VOC2007)} {R}esults\",\n",
            "    \thowpublished = \"http://www.pascal-network.org/challenges/VOC/voc2007/workshop/index.html\"}\"\"\",\n",
            ")\n",
            "Image shape: (480, 389, 3)\n",
            "Bounding Boxes: [[0.14375    0.0437018  0.97083336 0.7763496 ]\n",
            " [0.14583333 0.24164525 0.57916665 0.6066838 ]\n",
            " [0.6        0.5244216  0.8541667  0.76606685]\n",
            " [0.56041664 0.5012854  0.7395833  0.6863753 ]]\n",
            "Labels: [12 14 12 14]\n"
          ]
        }
      ]
    },
    {
      "cell_type": "markdown",
      "source": [
        "#Preprocess the Dataset"
      ],
      "metadata": {
        "id": "FDxEdNoJ1H7G"
      }
    },
    {
      "cell_type": "code",
      "source": [
        "def preprocess_sample_fixed(sample, max_boxes=100):\n",
        "    image = tf.image.resize(sample[\"image\"], (512, 512)) / 255.0  # Normalize image\n",
        "    boxes = sample[\"objects\"][\"bbox\"]  # [ymin, xmin, ymax, xmax]\n",
        "    classes = sample[\"objects\"][\"label\"]\n",
        "\n",
        "    # Convert to CenterNet format\n",
        "    center_x = (boxes[:, 1] + boxes[:, 3]) / 2.0  # (xmin + xmax) / 2\n",
        "    center_y = (boxes[:, 0] + boxes[:, 2]) / 2.0  # (ymin + ymax) / 2\n",
        "    width = boxes[:, 3] - boxes[:, 1]  # xmax - xmin\n",
        "    height = boxes[:, 2] - boxes[:, 0]  # ymax - ymin\n",
        "    centernet_boxes = tf.stack([center_x, center_y, width, height], axis=-1)\n",
        "\n",
        "    # Pad to fixed size\n",
        "    padded_boxes = tf.pad(centernet_boxes, [[0, max_boxes - tf.shape(centernet_boxes)[0]], [0, 0]])\n",
        "    padded_classes = tf.pad(classes, [[0, max_boxes - tf.shape(classes)[0]]])\n",
        "\n",
        "    return image, {\"boxes\": padded_boxes, \"classes\": padded_classes}\n",
        "\n",
        "train_dataset = dataset.map(lambda x: preprocess_sample_fixed(x)).batch(8).prefetch(tf.data.AUTOTUNE)"
      ],
      "metadata": {
        "id": "PATC0I5P1JZG"
      },
      "execution_count": 4,
      "outputs": []
    },
    {
      "cell_type": "code",
      "source": [
        "for image, targets in train_dataset.take(1):\n",
        "    print(\"Boxes shape:\", targets[\"boxes\"].shape)\n",
        "    print(\"Boxes:\", targets[\"boxes\"])"
      ],
      "metadata": {
        "colab": {
          "base_uri": "https://localhost:8080/"
        },
        "id": "eqNJ4H3EsA2O",
        "outputId": "9df26f8a-64be-4d82-f2c2-8ae65431f566"
      },
      "execution_count": 5,
      "outputs": [
        {
          "output_type": "stream",
          "name": "stdout",
          "text": [
            "Boxes shape: (8, 100, 4)\n",
            "Boxes: tf.Tensor(\n",
            "[[[0.41002572 0.5572917  0.7326478  0.82708335]\n",
            "  [0.42416453 0.36249998 0.36503854 0.43333334]\n",
            "  [0.64524424 0.7270833  0.24164528 0.25416666]\n",
            "  ...\n",
            "  [0.         0.         0.         0.        ]\n",
            "  [0.         0.         0.         0.        ]\n",
            "  [0.         0.         0.         0.        ]]\n",
            "\n",
            " [[0.44599998 0.48000002 0.732      0.8106667 ]\n",
            "  [0.147      0.52133334 0.29       0.43466666]\n",
            "  [0.         0.         0.         0.        ]\n",
            "  ...\n",
            "  [0.         0.         0.         0.        ]\n",
            "  [0.         0.         0.         0.        ]\n",
            "  [0.         0.         0.         0.        ]]\n",
            "\n",
            " [[0.503      0.63199997 0.994      0.736     ]\n",
            "  [0.         0.         0.         0.        ]\n",
            "  [0.         0.         0.         0.        ]\n",
            "  ...\n",
            "  [0.         0.         0.         0.        ]\n",
            "  [0.         0.         0.         0.        ]\n",
            "  [0.         0.         0.         0.        ]]\n",
            "\n",
            " ...\n",
            "\n",
            " [[0.177      0.59466666 0.35       0.8106667 ]\n",
            "  [0.65       0.50266665 0.7        0.9946667 ]\n",
            "  [0.         0.         0.         0.        ]\n",
            "  ...\n",
            "  [0.         0.         0.         0.        ]\n",
            "  [0.         0.         0.         0.        ]\n",
            "  [0.         0.         0.         0.        ]]\n",
            "\n",
            " [[0.52666664 0.705      0.63733333 0.56200004]\n",
            "  [0.45200002 0.339      0.84533334 0.286     ]\n",
            "  [0.53866667 0.514      0.64       0.48399997]\n",
            "  ...\n",
            "  [0.         0.         0.         0.        ]\n",
            "  [0.         0.         0.         0.        ]\n",
            "  [0.         0.         0.         0.        ]]\n",
            "\n",
            " [[0.579      0.58266664 0.842      0.83466667]\n",
            "  [0.         0.         0.         0.        ]\n",
            "  [0.         0.         0.         0.        ]\n",
            "  ...\n",
            "  [0.         0.         0.         0.        ]\n",
            "  [0.         0.         0.         0.        ]\n",
            "  [0.         0.         0.         0.        ]]], shape=(8, 100, 4), dtype=float32)\n"
          ]
        }
      ]
    },
    {
      "cell_type": "markdown",
      "source": [],
      "metadata": {
        "id": "lEYRNv11sAVg"
      }
    },
    {
      "cell_type": "markdown",
      "source": [
        "#Generate Heatmaps"
      ],
      "metadata": {
        "id": "m0SCxExiQzSW"
      }
    },
    {
      "cell_type": "code",
      "source": [
        "def generate_heatmap(boxes, labels, output_shape=(128, 128), num_classes=20, sigma=2):\n",
        "    heatmap = tf.zeros([output_shape[0], output_shape[1], num_classes], dtype=tf.float32)\n",
        "\n",
        "    # Filter out padded boxes\n",
        "    valid_indices = tf.reduce_any(boxes != 0, axis=-1)  # Identify valid boxes\n",
        "    valid_boxes = tf.boolean_mask(boxes, valid_indices)\n",
        "    valid_labels = tf.boolean_mask(labels, valid_indices)\n",
        "\n",
        "    for box, label in zip(valid_boxes, valid_labels):\n",
        "        cx, cy, w, h = box  # Unpack box\n",
        "        grid_x, grid_y = int(cx * output_shape[1]), int(cy * output_shape[0])\n",
        "\n",
        "        # Draw Gaussian around the center\n",
        "        for i in range(max(0, grid_x - 2 * sigma), min(output_shape[1], grid_x + 2 * sigma)):\n",
        "            for j in range(max(0, grid_y - 2 * sigma), min(output_shape[0], grid_y + 2 * sigma)):\n",
        "                heatmap = tf.tensor_scatter_nd_update(\n",
        "                    heatmap,\n",
        "                    indices=[[j, i, label]],\n",
        "                    updates=[tf.exp(-((i - grid_x) ** 2 + (j - grid_y) ** 2) / (2 * sigma ** 2))]\n",
        "                )\n",
        "\n",
        "    return heatmap\n",
        "\n"
      ],
      "metadata": {
        "id": "_fTHBJFEQ0t1"
      },
      "execution_count": 6,
      "outputs": []
    },
    {
      "cell_type": "code",
      "source": [
        "import matplotlib.pyplot as plt\n",
        "\n",
        "def visualize_heatmap(image, heatmap, class_index=None):\n",
        "    \"\"\"\n",
        "    Visualize the heatmap over the image.\n",
        "\n",
        "    Args:\n",
        "    - image: The input image (H, W, 3).\n",
        "    - heatmap: The generated heatmap (H', W', num_classes).\n",
        "    - class_index: The class channel to visualize (int or None).\n",
        "      If None, combines all class heatmaps into one.\n",
        "    \"\"\"\n",
        "    # Normalize the image for display\n",
        "    image = tf.image.resize(image, (512, 512))  # Resize for visualization\n",
        "    image = tf.clip_by_value(image, 0.0, 1.0)\n",
        "\n",
        "    # Extract the heatmap for a specific class or combine all channels\n",
        "    if class_index is not None:\n",
        "        heatmap = heatmap[..., class_index]\n",
        "    else:\n",
        "        heatmap = tf.reduce_max(heatmap, axis=-1)  # Combine all classes\n",
        "\n",
        "    # Normalize the heatmap\n",
        "    heatmap = tf.image.resize(heatmap[..., tf.newaxis], (512, 512))  # Resize to image size\n",
        "    heatmap = tf.squeeze(heatmap)\n",
        "    heatmap = (heatmap - tf.reduce_min(heatmap)) / (tf.reduce_max(heatmap) - tf.reduce_min(heatmap) + 1e-6)\n",
        "\n",
        "    # Overlay the heatmap on the image\n",
        "    plt.figure(figsize=(8, 8))\n",
        "    plt.imshow(image)\n",
        "    plt.imshow(heatmap, cmap='jet', alpha=0.5)  # Heatmap with transparency\n",
        "    plt.colorbar()\n",
        "    plt.title(\"Heatmap Overlay\")\n",
        "    plt.axis(\"off\")\n",
        "    plt.show()"
      ],
      "metadata": {
        "id": "cqqVlXKNCcm5"
      },
      "execution_count": 9,
      "outputs": []
    },
    {
      "cell_type": "code",
      "source": [
        "for image, targets in train_dataset.take(1):\n",
        "    # Generate heatmap\n",
        "    heatmap = generate_heatmap(targets[\"boxes\"], targets[\"classes\"])\n",
        "\n",
        "    # Visualize for class 0 (or combine all classes)\n",
        "    visualize_heatmap(image[0], heatmap, class_index=0)\n"
      ],
      "metadata": {
        "id": "xuLwsJgmTc-F"
      },
      "execution_count": null,
      "outputs": []
    },
    {
      "cell_type": "markdown",
      "source": [
        "#Define the Backbone"
      ],
      "metadata": {
        "id": "_c8LxFk1wpTU"
      }
    },
    {
      "cell_type": "code",
      "execution_count": null,
      "metadata": {
        "id": "gPoZ_t4kwHwb"
      },
      "outputs": [],
      "source": [
        "def create_backbone(input_shape=(512, 512, 3)):\n",
        "    # Use ResNet50 as backbone without top layers, outputting feature maps\n",
        "    backbone = ResNet50(input_shape=input_shape, include_top=False, weights=\"imagenet\")\n",
        "    backbone_output = backbone.get_layer(\"conv4_block6_out\").output  # Choose a layer\n",
        "    model = tf.keras.Model(inputs=backbone.input, outputs=backbone_output)\n",
        "    return model"
      ]
    },
    {
      "cell_type": "markdown",
      "source": [
        "#Detection Head\n",
        "The detection head will predict:\n",
        "\n",
        "-Heatmap: to identify object centers.\n",
        "\n",
        "-Offsets: to adjust for downsampling effects.\n",
        "\n",
        "-Sizes: to predict the width and height of objects.\n"
      ],
      "metadata": {
        "id": "0wZHjLAyxAZk"
      }
    },
    {
      "cell_type": "code",
      "source": [
        "def create_detection_head(backbone_output, num_classes):\n",
        "    # Heatmap head\n",
        "    heatmap = tf.keras.layers.Conv2D(64, kernel_size=3, padding=\"same\", activation=\"relu\")(backbone_output)\n",
        "    heatmap = tf.keras.layers.Conv2D(num_classes, kernel_size=1, padding=\"same\", activation=\"sigmoid\", name=\"heatmap\")(heatmap)\n",
        "\n",
        "    # Offset head\n",
        "    offset = tf.keras.layers.Conv2D(64, kernel_size=3, padding=\"same\", activation=\"relu\")(backbone_output)\n",
        "    offset = tf.keras.layers.Conv2D(2, kernel_size=1, padding=\"same\", name=\"offset\")(offset)  # 2 channels for x and y offsets\n",
        "\n",
        "    # Size head\n",
        "    size = tf.keras.layers.Conv2D(64, kernel_size=3, padding=\"same\", activation=\"relu\")(backbone_output)\n",
        "    size = tf.keras.layers.Conv2D(2, kernel_size=1, padding=\"same\", name=\"size\")(size)  # 2 channels for width and height\n",
        "\n",
        "    return heatmap, offset, size\n"
      ],
      "metadata": {
        "id": "Jww7034LxR9o"
      },
      "execution_count": null,
      "outputs": []
    },
    {
      "cell_type": "markdown",
      "source": [
        "#Build the Complete CenterNet Model"
      ],
      "metadata": {
        "id": "v5UNB90LA66B"
      }
    },
    {
      "cell_type": "code",
      "source": [
        "def create_centernet(input_shape=(512, 512, 3), num_classes=80):\n",
        "    inputs = tf.keras.Input(shape=input_shape)\n",
        "    backbone_output = create_backbone(input_shape)(inputs)\n",
        "    heatmap, offset, size = create_detection_head(backbone_output, num_classes)\n",
        "    model = tf.keras.Model(inputs=inputs, outputs=[heatmap, offset, size])\n",
        "    return model\n"
      ],
      "metadata": {
        "id": "E-_X853SA7tQ"
      },
      "execution_count": null,
      "outputs": []
    },
    {
      "cell_type": "markdown",
      "source": [
        "#Compile the Model"
      ],
      "metadata": {
        "id": "fre-mqKYBAyW"
      }
    },
    {
      "cell_type": "code",
      "source": [
        "def focal_loss(gamma=2.0, alpha=0.25):\n",
        "    def focal_loss_fixed(y_true, y_pred):\n",
        "        alpha_factor = tf.where(tf.equal(y_true, 1), alpha, 1 - alpha)\n",
        "        focal_weight = tf.where(tf.equal(y_true, 1), 1 - y_pred, y_pred)\n",
        "        focal_weight = alpha_factor * tf.pow(focal_weight, gamma)\n",
        "        bce = tf.keras.losses.binary_crossentropy(y_true, y_pred)\n",
        "        return focal_weight * bce\n",
        "    return focal_loss_fixed\n",
        "\n",
        "def smooth_l1_loss(y_true, y_pred):\n",
        "    return tf.keras.losses.Huber()(y_true, y_pred)\n",
        "\n",
        "centernet = create_centernet()\n",
        "centernet.compile(optimizer='adam',\n",
        "                  loss={'heatmap': focal_loss(),\n",
        "                        'offset': smooth_l1_loss,\n",
        "                        'size': smooth_l1_loss})"
      ],
      "metadata": {
        "id": "epLB0IsdBBre"
      },
      "execution_count": null,
      "outputs": []
    },
    {
      "cell_type": "markdown",
      "source": [
        "#Train the Model"
      ],
      "metadata": {
        "id": "LlsztyaLGFxW"
      }
    },
    {
      "cell_type": "code",
      "source": [
        "history = centernet.fit(train_dataset, validation_data=val_dataset, epochs=20)"
      ],
      "metadata": {
        "id": "Cp25jdF6GFAN"
      },
      "execution_count": null,
      "outputs": []
    }
  ]
}